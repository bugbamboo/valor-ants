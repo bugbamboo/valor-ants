{
 "cells": [
  {
   "cell_type": "code",
   "execution_count": null,
   "metadata": {},
   "outputs": [],
   "source": [
    "import cv2\n",
    "import mouse\n",
    "import numpy as np\n",
    "import sys\n",
    "import time\n",
    "import pyaudio\n",
    "import wave\n",
    "import audioop\n",
    "import serial\n",
    "import pyautogui\n",
    "\n",
    "#ser = serial.Serial('COM10',9600)\n",
    "#video_capture = cv2.VideoCapture(0)\n",
    "CHUNK = 1024\n",
    "FORMAT = pyaudio.paInt16\n",
    "CHANNELS = 1\n",
    "RATE = 44100\n",
    "RECORD_SECONDS = 15\n",
    "WAVE_OUTPUT_FILENAME = \"output.wav\"\n",
    "thres = 40000\n",
    "x=[]\n",
    "p = pyaudio.PyAudio()\n",
    "stream = p.open(format=FORMAT,\n",
    "                channels=CHANNELS,\n",
    "                rate=RATE,\n",
    "                input=True,input_device_index = 0,\n",
    "                frames_per_buffer=CHUNK)\n",
    "d = []\n",
    "for s in range(480):\n",
    "    if s%32==0:\n",
    "        d.append(s)\n",
    "d2 =[]\n",
    "for s in range(640):\n",
    "    if(s%1)==0:\n",
    "        d2.append(s)\n",
    "while True:\n",
    "    data = stream.read(CHUNK)\n",
    "    rms = audioop.rms(data, 2)\n",
    "    print(rms)\n",
    "    if rms>thres:\n",
    "        mouse.click('left')\n",
    "    \n",
    "    "
   ]
  },
  {
   "cell_type": "code",
   "execution_count": null,
   "metadata": {},
   "outputs": [],
   "source": [
    "frame"
   ]
  },
  {
   "cell_type": "code",
   "execution_count": null,
   "metadata": {},
   "outputs": [],
   "source": [
    "import cv2\n",
    "video_capture = cv2.VideoCapture(0)\n",
    "frame = video_capture.read()"
   ]
  },
  {
   "cell_type": "code",
   "execution_count": null,
   "metadata": {},
   "outputs": [],
   "source": [
    "frame"
   ]
  },
  {
   "cell_type": "code",
   "execution_count": null,
   "metadata": {},
   "outputs": [],
   "source": [
    "ret, frame = video_capture.read()\n",
    "    \n",
    "    \n",
    "    ima = frame[::-1,:,::-1]\n",
    "    img = cv2.cvtColor(ima, cv2.COLOR_BGR2GRAY)\n",
    "    \n",
    "    for x in d:\n",
    "        for y in d2:\n",
    "            if img[x,y]<5:\n",
    "                break\n",
    "        else:\n",
    "            continue\n",
    "        break\n",
    "    \n",
    "    x = round(x*2.25)\n",
    "    y = round(y*3)\n",
    "    \n",
    "    v =pyautogui.position()\n",
    "    changey=x-v[1]\n",
    "    changex =y-v[0]\n",
    "    k = str(round(changex/25))\n",
    "    j = str(round(changey/25))\n",
    "    \n",
    "    if(x==1008 and y==1917):\n",
    "        ser.write(bytes(\"0:0\",'utf-8'))\n",
    "    else:\n",
    "        ser.write(bytes(k+\":\"+j,'utf-8'))\n",
    "    time.sleep(0.1)\n",
    "    \n",
    "    \n",
    "    \n",
    "ser.close()   \n",
    "video_capture.release()"
   ]
  }
 ],
 "metadata": {
  "kernelspec": {
   "display_name": "Python 3",
   "language": "python",
   "name": "python3"
  },
  "language_info": {
   "codemirror_mode": {
    "name": "ipython",
    "version": 3
   },
   "file_extension": ".py",
   "mimetype": "text/x-python",
   "name": "python",
   "nbconvert_exporter": "python",
   "pygments_lexer": "ipython3",
   "version": "3.7.3"
  }
 },
 "nbformat": 4,
 "nbformat_minor": 2
}
